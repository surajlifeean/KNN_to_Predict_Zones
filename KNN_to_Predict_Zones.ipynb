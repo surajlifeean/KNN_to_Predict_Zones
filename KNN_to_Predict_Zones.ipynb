{
  "nbformat": 4,
  "nbformat_minor": 0,
  "metadata": {
    "colab": {
      "name": "KNN_to_Predict_Zones.ipynb",
      "provenance": [],
      "collapsed_sections": [],
      "toc_visible": true
    },
    "kernelspec": {
      "name": "python3",
      "display_name": "Python 3"
    }
  },
  "cells": [
    {
      "cell_type": "markdown",
      "metadata": {
        "id": "dLn7cBWvh66R",
        "colab_type": "text"
      },
      "source": [
        "### Loading Zone Data from API"
      ]
    },
    {
      "cell_type": "code",
      "metadata": {
        "id": "6-3rvgWHOQ6g",
        "colab_type": "code",
        "colab": {}
      },
      "source": [
        "import requests\n",
        "import json\n",
        "import pandas as pd\n",
        "zones = requests.get(\"https://api.covid19india.org/zones.json\")\n",
        "data = json.loads(zones.text)"
      ],
      "execution_count": 0,
      "outputs": []
    },
    {
      "cell_type": "markdown",
      "metadata": {
        "id": "N5tK76UIiNHY",
        "colab_type": "text"
      },
      "source": [
        "Creating an empty dist to hold the district and zone details\n",
        "\n",
        "\n",
        "\n"
      ]
    },
    {
      "cell_type": "code",
      "metadata": {
        "id": "02zPXxuMOYfL",
        "colab_type": "code",
        "colab": {}
      },
      "source": [
        "# data['zones'][0]\n",
        "# dist_zone_list=[]\n",
        "dist_zone={}"
      ],
      "execution_count": 0,
      "outputs": []
    },
    {
      "cell_type": "markdown",
      "metadata": {
        "id": "013vDIJ7icuH",
        "colab_type": "text"
      },
      "source": [
        "Looping through the Json object district and zone to the dictionary in key value pair."
      ]
    },
    {
      "cell_type": "code",
      "metadata": {
        "id": "4A5t3ROSOfPQ",
        "colab_type": "code",
        "colab": {}
      },
      "source": [
        "for entry in data['zones']:\n",
        "  # dist_zone_list.append([entry['district'],entry['state'],entry['zone']])\n",
        "  dist_zone.update({entry['district']:entry['zone']})"
      ],
      "execution_count": 0,
      "outputs": []
    },
    {
      "cell_type": "markdown",
      "metadata": {
        "id": "SnaZGw8ritmx",
        "colab_type": "text"
      },
      "source": [
        ""
      ]
    },
    {
      "cell_type": "code",
      "metadata": {
        "id": "ryjj7Kq1PQ5x",
        "colab_type": "code",
        "colab": {}
      },
      "source": [
        "#dz_df=pd.DataFrame(dist_zone_list,columns=['district','state','zone'])"
      ],
      "execution_count": 0,
      "outputs": []
    },
    {
      "cell_type": "markdown",
      "metadata": {
        "id": "Jnqzcuvam9wM",
        "colab_type": "text"
      },
      "source": [
        "### Loading District Data from API"
      ]
    },
    {
      "cell_type": "code",
      "metadata": {
        "id": "ZIoK5gGEQNOJ",
        "colab_type": "code",
        "colab": {}
      },
      "source": [
        "districts = requests.get(\"https://api.covid19india.org/districts_daily.json\")\n",
        "data_district = json.loads(districts.text)"
      ],
      "execution_count": 0,
      "outputs": []
    },
    {
      "cell_type": "code",
      "metadata": {
        "id": "see9zGc-WbPL",
        "colab_type": "code",
        "colab": {}
      },
      "source": [
        "#creating a list to store the extracted data from the json response\n",
        "data_cnt=[]"
      ],
      "execution_count": 0,
      "outputs": []
    },
    {
      "cell_type": "markdown",
      "metadata": {
        "id": "VEMj5wCknisI",
        "colab_type": "text"
      },
      "source": [
        ""
      ]
    },
    {
      "cell_type": "markdown",
      "metadata": {
        "id": "3Up_XZGrnkVp",
        "colab_type": "text"
      },
      "source": [
        "Th function takes all the time series data for a district and returns the current number of cases and the day to today when the last increase in count was notices\n",
        "\n",
        "\n",
        "```\n",
        "Chitradurga\t\t[31]\n",
        "\t0\t\t{6}\n",
        "notes\t:\t\n",
        "active\t:\t0\n",
        "confirmed\t:\t1\n",
        "deceased\t:\t0\n",
        "recovered\t:\t1\n",
        "date\t:\t2020-04-24\n",
        "\t1\t\t{6}\n",
        "notes\t:\t\n",
        "active\t:\t0\n",
        "confirmed\t:\t1\n",
        "deceased\t:\t0\n",
        "recovered\t:\t1\n",
        "date\t:\t2020-04-25\n",
        "\t2\t\t{6}\n",
        "notes\t:\t\n",
        "active\t:\t0\n",
        "confirmed\t:\t1\n",
        "deceased\t:\t0\n",
        "recovered\t:\t1\n",
        "date\t:\t2020-04-26\n",
        "\n",
        "```\n",
        "\n"
      ]
    },
    {
      "cell_type": "code",
      "metadata": {
        "id": "ndmP6itUZd7T",
        "colab_type": "code",
        "colab": {}
      },
      "source": [
        "from datetime import datetime\n",
        "def getCaseAndLastReport(jsonObjectParam):\n",
        "    cases_dist=pd.DataFrame(jsonObjectParam)\n",
        "    current=cases_dist.max()\n",
        "    current_cnf_cnt=current.confirmed\n",
        "    current_dt=current.date\n",
        "    previous=cases_dist[cases_dist['confirmed']<current_cnf_cnt].max()\n",
        "    previous_cnf_cnt=previous.confirmed\n",
        "    previous_dt=previous.date\n",
        "    if(pd.isnull(previous_dt)):\n",
        "      previous_dt='2020-04-21'\n",
        "    datetime1=datetime.strptime(current_dt,'%Y-%m-%d')\n",
        "    datetime2=datetime.strptime(previous_dt,'%Y-%m-%d')\n",
        "    diff=(datetime1-datetime2).days\n",
        "    return [diff,current_cnf_cnt]"
      ],
      "execution_count": 0,
      "outputs": []
    },
    {
      "cell_type": "markdown",
      "metadata": {
        "id": "icL6dl63oTlh",
        "colab_type": "text"
      },
      "source": [
        "Iterates through the json object and invokes the above function"
      ]
    },
    {
      "cell_type": "code",
      "metadata": {
        "id": "E86J8I1Kb-F7",
        "colab_type": "code",
        "colab": {}
      },
      "source": [
        "for state in data_district['districtsDaily']:\n",
        "  for district in data_district['districtsDaily'][state]:\n",
        "    info=[state,district]\n",
        "    val=getCaseAndLastReport(data_district['districtsDaily'][state][district])\n",
        "    data_cnt.append(info+val)"
      ],
      "execution_count": 0,
      "outputs": []
    },
    {
      "cell_type": "markdown",
      "metadata": {
        "id": "PeVRIh5poueh",
        "colab_type": "text"
      },
      "source": [
        "Creating a dataframe from the list created"
      ]
    },
    {
      "cell_type": "code",
      "metadata": {
        "id": "8gnihsh9j_7n",
        "colab_type": "code",
        "colab": {}
      },
      "source": [
        "district_df=pd.DataFrame(data_cnt,columns=['State','District','DaysOfNoChange','Count'])"
      ],
      "execution_count": 0,
      "outputs": []
    },
    {
      "cell_type": "markdown",
      "metadata": {
        "id": "PRxijA_Yo1Px",
        "colab_type": "text"
      },
      "source": [
        "Applying map function on the dataframe and zone dictionary to get zone values in the district dataframe"
      ]
    },
    {
      "cell_type": "code",
      "metadata": {
        "id": "16Op-iP5li6y",
        "colab_type": "code",
        "colab": {}
      },
      "source": [
        "district_df['zone']=district_df['District'].map(dist_zone)"
      ],
      "execution_count": 0,
      "outputs": []
    },
    {
      "cell_type": "code",
      "metadata": {
        "id": "orOXJKDOl_wv",
        "colab_type": "code",
        "outputId": "5e7ccc86-acb4-4520-9471-274a0a17387a",
        "colab": {
          "base_uri": "https://localhost:8080/",
          "height": 855
        }
      },
      "source": [
        "#checking the obtained data for a specific state\n",
        "district_df[district_df['State']=='West Bengal']"
      ],
      "execution_count": 0,
      "outputs": [
        {
          "output_type": "execute_result",
          "data": {
            "text/html": [
              "<div>\n",
              "<style scoped>\n",
              "    .dataframe tbody tr th:only-of-type {\n",
              "        vertical-align: middle;\n",
              "    }\n",
              "\n",
              "    .dataframe tbody tr th {\n",
              "        vertical-align: top;\n",
              "    }\n",
              "\n",
              "    .dataframe thead th {\n",
              "        text-align: right;\n",
              "    }\n",
              "</style>\n",
              "<table border=\"1\" class=\"dataframe\">\n",
              "  <thead>\n",
              "    <tr style=\"text-align: right;\">\n",
              "      <th></th>\n",
              "      <th>State</th>\n",
              "      <th>District</th>\n",
              "      <th>DaysOfNoChange</th>\n",
              "      <th>Count</th>\n",
              "      <th>zone</th>\n",
              "    </tr>\n",
              "  </thead>\n",
              "  <tbody>\n",
              "    <tr>\n",
              "      <th>781</th>\n",
              "      <td>West Bengal</td>\n",
              "      <td>Hooghly</td>\n",
              "      <td>2</td>\n",
              "      <td>191</td>\n",
              "      <td>Orange</td>\n",
              "    </tr>\n",
              "    <tr>\n",
              "      <th>782</th>\n",
              "      <td>West Bengal</td>\n",
              "      <td>Howrah</td>\n",
              "      <td>2</td>\n",
              "      <td>751</td>\n",
              "      <td>Red</td>\n",
              "    </tr>\n",
              "    <tr>\n",
              "      <th>783</th>\n",
              "      <td>West Bengal</td>\n",
              "      <td>Kalimpong</td>\n",
              "      <td>33</td>\n",
              "      <td>7</td>\n",
              "      <td>Orange</td>\n",
              "    </tr>\n",
              "    <tr>\n",
              "      <th>784</th>\n",
              "      <td>West Bengal</td>\n",
              "      <td>Kolkata</td>\n",
              "      <td>2</td>\n",
              "      <td>1613</td>\n",
              "      <td>Red</td>\n",
              "    </tr>\n",
              "    <tr>\n",
              "      <th>785</th>\n",
              "      <td>West Bengal</td>\n",
              "      <td>Medinipur East</td>\n",
              "      <td>10</td>\n",
              "      <td>22</td>\n",
              "      <td>NaN</td>\n",
              "    </tr>\n",
              "    <tr>\n",
              "      <th>786</th>\n",
              "      <td>West Bengal</td>\n",
              "      <td>Nadia</td>\n",
              "      <td>2</td>\n",
              "      <td>25</td>\n",
              "      <td>Orange</td>\n",
              "    </tr>\n",
              "    <tr>\n",
              "      <th>787</th>\n",
              "      <td>West Bengal</td>\n",
              "      <td>North 24 Parganas</td>\n",
              "      <td>2</td>\n",
              "      <td>445</td>\n",
              "      <td>Red</td>\n",
              "    </tr>\n",
              "    <tr>\n",
              "      <th>788</th>\n",
              "      <td>West Bengal</td>\n",
              "      <td>South 24 Parganas</td>\n",
              "      <td>2</td>\n",
              "      <td>120</td>\n",
              "      <td>Orange</td>\n",
              "    </tr>\n",
              "    <tr>\n",
              "      <th>789</th>\n",
              "      <td>West Bengal</td>\n",
              "      <td>Unknown</td>\n",
              "      <td>0</td>\n",
              "      <td>534</td>\n",
              "      <td>NaN</td>\n",
              "    </tr>\n",
              "    <tr>\n",
              "      <th>790</th>\n",
              "      <td>West Bengal</td>\n",
              "      <td>Darjeeling</td>\n",
              "      <td>5</td>\n",
              "      <td>10</td>\n",
              "      <td>Orange</td>\n",
              "    </tr>\n",
              "    <tr>\n",
              "      <th>791</th>\n",
              "      <td>West Bengal</td>\n",
              "      <td>Jalpaiguri</td>\n",
              "      <td>0</td>\n",
              "      <td>5</td>\n",
              "      <td>Orange</td>\n",
              "    </tr>\n",
              "    <tr>\n",
              "      <th>792</th>\n",
              "      <td>West Bengal</td>\n",
              "      <td>Murshidabad</td>\n",
              "      <td>2</td>\n",
              "      <td>35</td>\n",
              "      <td>Orange</td>\n",
              "    </tr>\n",
              "    <tr>\n",
              "      <th>793</th>\n",
              "      <td>West Bengal</td>\n",
              "      <td>Paschim Bardhaman</td>\n",
              "      <td>2</td>\n",
              "      <td>21</td>\n",
              "      <td>Orange</td>\n",
              "    </tr>\n",
              "    <tr>\n",
              "      <th>794</th>\n",
              "      <td>West Bengal</td>\n",
              "      <td>Purba Bardhaman</td>\n",
              "      <td>2</td>\n",
              "      <td>25</td>\n",
              "      <td>Orange</td>\n",
              "    </tr>\n",
              "    <tr>\n",
              "      <th>795</th>\n",
              "      <td>West Bengal</td>\n",
              "      <td>Purba Medinipur</td>\n",
              "      <td>3</td>\n",
              "      <td>52</td>\n",
              "      <td>Red</td>\n",
              "    </tr>\n",
              "    <tr>\n",
              "      <th>796</th>\n",
              "      <td>West Bengal</td>\n",
              "      <td>Birbhum</td>\n",
              "      <td>2</td>\n",
              "      <td>18</td>\n",
              "      <td>Orange</td>\n",
              "    </tr>\n",
              "    <tr>\n",
              "      <th>797</th>\n",
              "      <td>West Bengal</td>\n",
              "      <td>Malda</td>\n",
              "      <td>2</td>\n",
              "      <td>50</td>\n",
              "      <td>Orange</td>\n",
              "    </tr>\n",
              "    <tr>\n",
              "      <th>798</th>\n",
              "      <td>West Bengal</td>\n",
              "      <td>Paschim Medinipur</td>\n",
              "      <td>4</td>\n",
              "      <td>26</td>\n",
              "      <td>Orange</td>\n",
              "    </tr>\n",
              "    <tr>\n",
              "      <th>799</th>\n",
              "      <td>West Bengal</td>\n",
              "      <td>Other State</td>\n",
              "      <td>2</td>\n",
              "      <td>27</td>\n",
              "      <td>NaN</td>\n",
              "    </tr>\n",
              "    <tr>\n",
              "      <th>800</th>\n",
              "      <td>West Bengal</td>\n",
              "      <td>Jhargram</td>\n",
              "      <td>33</td>\n",
              "      <td>3</td>\n",
              "      <td>Green</td>\n",
              "    </tr>\n",
              "    <tr>\n",
              "      <th>801</th>\n",
              "      <td>West Bengal</td>\n",
              "      <td>Uttar Dinajpur</td>\n",
              "      <td>2</td>\n",
              "      <td>20</td>\n",
              "      <td>Green</td>\n",
              "    </tr>\n",
              "    <tr>\n",
              "      <th>802</th>\n",
              "      <td>West Bengal</td>\n",
              "      <td>Alipurduar</td>\n",
              "      <td>33</td>\n",
              "      <td>0</td>\n",
              "      <td>Green</td>\n",
              "    </tr>\n",
              "    <tr>\n",
              "      <th>803</th>\n",
              "      <td>West Bengal</td>\n",
              "      <td>Bankura</td>\n",
              "      <td>2</td>\n",
              "      <td>1</td>\n",
              "      <td>Green</td>\n",
              "    </tr>\n",
              "    <tr>\n",
              "      <th>804</th>\n",
              "      <td>West Bengal</td>\n",
              "      <td>Cooch Behar</td>\n",
              "      <td>33</td>\n",
              "      <td>0</td>\n",
              "      <td>Green</td>\n",
              "    </tr>\n",
              "    <tr>\n",
              "      <th>805</th>\n",
              "      <td>West Bengal</td>\n",
              "      <td>Dakshin Dinajpur</td>\n",
              "      <td>2</td>\n",
              "      <td>4</td>\n",
              "      <td>Green</td>\n",
              "    </tr>\n",
              "    <tr>\n",
              "      <th>806</th>\n",
              "      <td>West Bengal</td>\n",
              "      <td>Purulia</td>\n",
              "      <td>33</td>\n",
              "      <td>0</td>\n",
              "      <td>Green</td>\n",
              "    </tr>\n",
              "  </tbody>\n",
              "</table>\n",
              "</div>"
            ],
            "text/plain": [
              "           State           District  DaysOfNoChange  Count    zone\n",
              "781  West Bengal            Hooghly               2    191  Orange\n",
              "782  West Bengal             Howrah               2    751     Red\n",
              "783  West Bengal          Kalimpong              33      7  Orange\n",
              "784  West Bengal            Kolkata               2   1613     Red\n",
              "785  West Bengal     Medinipur East              10     22     NaN\n",
              "786  West Bengal              Nadia               2     25  Orange\n",
              "787  West Bengal  North 24 Parganas               2    445     Red\n",
              "788  West Bengal  South 24 Parganas               2    120  Orange\n",
              "789  West Bengal            Unknown               0    534     NaN\n",
              "790  West Bengal         Darjeeling               5     10  Orange\n",
              "791  West Bengal         Jalpaiguri               0      5  Orange\n",
              "792  West Bengal        Murshidabad               2     35  Orange\n",
              "793  West Bengal  Paschim Bardhaman               2     21  Orange\n",
              "794  West Bengal    Purba Bardhaman               2     25  Orange\n",
              "795  West Bengal    Purba Medinipur               3     52     Red\n",
              "796  West Bengal            Birbhum               2     18  Orange\n",
              "797  West Bengal              Malda               2     50  Orange\n",
              "798  West Bengal  Paschim Medinipur               4     26  Orange\n",
              "799  West Bengal        Other State               2     27     NaN\n",
              "800  West Bengal           Jhargram              33      3   Green\n",
              "801  West Bengal     Uttar Dinajpur               2     20   Green\n",
              "802  West Bengal         Alipurduar              33      0   Green\n",
              "803  West Bengal            Bankura               2      1   Green\n",
              "804  West Bengal        Cooch Behar              33      0   Green\n",
              "805  West Bengal   Dakshin Dinajpur               2      4   Green\n",
              "806  West Bengal            Purulia              33      0   Green"
            ]
          },
          "metadata": {
            "tags": []
          },
          "execution_count": 137
        }
      ]
    },
    {
      "cell_type": "code",
      "metadata": {
        "id": "022-OsOjmBWP",
        "colab_type": "code",
        "colab": {}
      },
      "source": [
        "#droping rows with null values\n",
        "district_df.dropna(inplace=True)"
      ],
      "execution_count": 0,
      "outputs": []
    },
    {
      "cell_type": "code",
      "metadata": {
        "id": "lBIpwcg7qJMY",
        "colab_type": "code",
        "colab": {}
      },
      "source": [
        "#assigning codes to our zone color for the classifier algorithm to work on it\n",
        "codes={'Red':1,'Orange':2,'Green':3}"
      ],
      "execution_count": 0,
      "outputs": []
    },
    {
      "cell_type": "code",
      "metadata": {
        "id": "hhOdXe3drKQq",
        "colab_type": "code",
        "colab": {}
      },
      "source": [
        "district_df['zone_cd']=district_df['zone'].map(codes)"
      ],
      "execution_count": 0,
      "outputs": []
    },
    {
      "cell_type": "markdown",
      "metadata": {
        "id": "TJbegn-9AOL7",
        "colab_type": "text"
      },
      "source": [
        "Representing the red, green and orange counts using bar chart"
      ]
    },
    {
      "cell_type": "code",
      "metadata": {
        "id": "UVNrr4c3supA",
        "colab_type": "code",
        "outputId": "071377d2-09c9-4fa3-f84f-b35c6f609ed5",
        "colab": {
          "base_uri": "https://localhost:8080/",
          "height": 271
        }
      },
      "source": [
        "\n",
        "p=district_df.zone_cd.value_counts().plot(kind=\"bar\",color=['#FF9233','#33FF53','#FF0000'])"
      ],
      "execution_count": 0,
      "outputs": [
        {
          "output_type": "display_data",
          "data": {
            "image/png": "[encoded data removed]",
            "text/plain": [
              "<Figure size 432x288 with 1 Axes>"
            ]
          },
          "metadata": {
            "tags": [],
            "needs_background": "light"
          }
        }
      ]
    },
    {
      "cell_type": "markdown",
      "metadata": {
        "id": "ERJ0AVhTAdzk",
        "colab_type": "text"
      },
      "source": [
        "Assigning X and y values for computation"
      ]
    },
    {
      "cell_type": "code",
      "metadata": {
        "id": "VMs6h3yVsw8Y",
        "colab_type": "code",
        "colab": {}
      },
      "source": [
        "X=district_df[['DaysOfNoChange','Count']].values\n",
        "y = df['zone_cd'].values"
      ],
      "execution_count": 0,
      "outputs": []
    },
    {
      "cell_type": "code",
      "metadata": {
        "id": "_C77wX4CtK2p",
        "colab_type": "code",
        "outputId": "b4ce3312-79fd-4a59-e9fb-de639043f7b2",
        "colab": {
          "base_uri": "https://localhost:8080/",
          "height": 102
        }
      },
      "source": [
        "X[0:5]"
      ],
      "execution_count": 0,
      "outputs": [
        {
          "output_type": "execute_result",
          "data": {
            "text/plain": [
              "array([[ 33,   1],\n",
              "       [ 30,  32],\n",
              "       [ 33,   0],\n",
              "       [  5, 136],\n",
              "       [  5, 208]])"
            ]
          },
          "metadata": {
            "tags": []
          },
          "execution_count": 183
        }
      ]
    },
    {
      "cell_type": "markdown",
      "metadata": {
        "id": "eCqHMoUeAmDP",
        "colab_type": "text"
      },
      "source": [
        "For the Clasification algorithm KNN to work well the mean should be zero and variance must be 1 hence normalizing the data is required"
      ]
    },
    {
      "cell_type": "code",
      "metadata": {
        "id": "1nq1geSItPYB",
        "colab_type": "code",
        "colab": {}
      },
      "source": [
        "from sklearn import preprocessing\n",
        "X = preprocessing.StandardScaler().fit(X).transform(X.astype(float))"
      ],
      "execution_count": 0,
      "outputs": []
    },
    {
      "cell_type": "code",
      "metadata": {
        "id": "QHOQsRumtqF5",
        "colab_type": "code",
        "outputId": "4d6c07b0-ce60-4c94-ccef-66e988607911",
        "colab": {
          "base_uri": "https://localhost:8080/",
          "height": 136
        }
      },
      "source": [
        "X"
      ],
      "execution_count": 0,
      "outputs": [
        {
          "output_type": "execute_result",
          "data": {
            "text/plain": [
              "array([[ 1.85657699, -0.12798192],\n",
              "       [ 1.6167601 , -0.10271815],\n",
              "       [ 1.85657699, -0.12879688],\n",
              "       ...,\n",
              "       [ 1.85657699, -0.12879688],\n",
              "       [ 1.85657699, -0.12879688],\n",
              "       [ 1.85657699, -0.12879688]])"
            ]
          },
          "metadata": {
            "tags": []
          },
          "execution_count": 165
        }
      ]
    },
    {
      "cell_type": "code",
      "metadata": {
        "id": "xVJuCnJZvTZB",
        "colab_type": "code",
        "colab": {}
      },
      "source": [
        "from sklearn.neighbors import KNeighborsClassifier"
      ],
      "execution_count": 0,
      "outputs": []
    },
    {
      "cell_type": "markdown",
      "metadata": {
        "id": "iXVZwX-SB3OQ",
        "colab_type": "text"
      },
      "source": [
        "Splitting data into test and training set"
      ]
    },
    {
      "cell_type": "code",
      "metadata": {
        "id": "-__4WJTpvY5q",
        "colab_type": "code",
        "outputId": "378a1915-8006-4ada-c3c0-bf40e6ef4738",
        "colab": {
          "base_uri": "https://localhost:8080/",
          "height": 51
        }
      },
      "source": [
        "from sklearn.model_selection import train_test_split\n",
        "X_train, X_test, y_train, y_test = train_test_split(X, y, test_size=0.2, random_state=4)\n",
        "print ('Train set:', X_train.shape,  y_train.shape)\n",
        "print ('Test set:', X_test.shape,  y_test.shape)"
      ],
      "execution_count": 0,
      "outputs": [
        {
          "output_type": "stream",
          "text": [
            "Train set: (588, 2) (588,)\n",
            "Test set: (148, 2) (148,)\n"
          ],
          "name": "stdout"
        }
      ]
    },
    {
      "cell_type": "markdown",
      "metadata": {
        "id": "cK1PVoRECXQ6",
        "colab_type": "text"
      },
      "source": [
        "Considering K as 3 as we intend to divide the dataset into 3 groups"
      ]
    },
    {
      "cell_type": "code",
      "metadata": {
        "id": "Wbg3KW1Uvdx6",
        "colab_type": "code",
        "outputId": "d0330fa4-57b3-426e-f06b-143327205660",
        "colab": {
          "base_uri": "https://localhost:8080/",
          "height": 68
        }
      },
      "source": [
        "k = 3\n",
        "#Train Model and Predict  \n",
        "neigh = KNeighborsClassifier(n_neighbors = k).fit(X_train,y_train)\n",
        "neigh"
      ],
      "execution_count": 0,
      "outputs": [
        {
          "output_type": "execute_result",
          "data": {
            "text/plain": [
              "KNeighborsClassifier(algorithm='auto', leaf_size=30, metric='minkowski',\n",
              "                     metric_params=None, n_jobs=None, n_neighbors=3, p=2,\n",
              "                     weights='uniform')"
            ]
          },
          "metadata": {
            "tags": []
          },
          "execution_count": 186
        }
      ]
    },
    {
      "cell_type": "code",
      "metadata": {
        "id": "vXTxUd7dv0Xh",
        "colab_type": "code",
        "colab": {}
      },
      "source": [
        "#predicting Y based X_test\n",
        "yhat = neigh.predict(X_test)"
      ],
      "execution_count": 0,
      "outputs": []
    },
    {
      "cell_type": "markdown",
      "metadata": {
        "id": "RGcpd5jaCsLi",
        "colab_type": "text"
      },
      "source": [
        "Calculating accuracy score gives an idea of the performance of our classification algorithm"
      ]
    },
    {
      "cell_type": "code",
      "metadata": {
        "id": "D74M3-PVxPiM",
        "colab_type": "code",
        "outputId": "cee6da39-c1cd-4623-a6f9-83089b0322e2",
        "colab": {
          "base_uri": "https://localhost:8080/",
          "height": 51
        }
      },
      "source": [
        "from sklearn import metrics\n",
        "print(\"Train set Accuracy: \", metrics.accuracy_score(y_train, neigh.predict(X_train)))\n",
        "print(\"Test set Accuracy: \", metrics.accuracy_score(y_test, yhat))"
      ],
      "execution_count": 0,
      "outputs": [
        {
          "output_type": "stream",
          "text": [
            "Train set Accuracy:  0.7840136054421769\n",
            "Test set Accuracy:  0.777027027027027\n"
          ],
          "name": "stdout"
        }
      ]
    },
    {
      "cell_type": "markdown",
      "metadata": {
        "id": "xlQZ8K4gC5_K",
        "colab_type": "text"
      },
      "source": [
        "## Confusion matrix also gives as an estimate of the performace by comparing the predicted values to the actual values for the test dataset"
      ]
    },
    {
      "cell_type": "code",
      "metadata": {
        "id": "KcYN-TKQzOIq",
        "colab_type": "code",
        "outputId": "874427b1-45e2-4b82-c8fd-5b90d0a5dadb",
        "colab": {
          "base_uri": "https://localhost:8080/",
          "height": 204
        }
      },
      "source": [
        "#import confusion_matrix\n",
        "from sklearn.metrics import confusion_matrix\n",
        "#let us get the predictions using the classifier we had fit above\n",
        "y_pred = neigh.predict(X_test)\n",
        "confusion_matrix(y_test,y_pred)\n",
        "pd.crosstab(y_test, y_pred, rownames=['True'], colnames=['Predicted'], margins=True)"
      ],
      "execution_count": 0,
      "outputs": [
        {
          "output_type": "execute_result",
          "data": {
            "text/html": [
              "<div>\n",
              "<style scoped>\n",
              "    .dataframe tbody tr th:only-of-type {\n",
              "        vertical-align: middle;\n",
              "    }\n",
              "\n",
              "    .dataframe tbody tr th {\n",
              "        vertical-align: top;\n",
              "    }\n",
              "\n",
              "    .dataframe thead th {\n",
              "        text-align: right;\n",
              "    }\n",
              "</style>\n",
              "<table border=\"1\" class=\"dataframe\">\n",
              "  <thead>\n",
              "    <tr style=\"text-align: right;\">\n",
              "      <th>Predicted</th>\n",
              "      <th>1.0</th>\n",
              "      <th>2.0</th>\n",
              "      <th>3.0</th>\n",
              "      <th>All</th>\n",
              "    </tr>\n",
              "    <tr>\n",
              "      <th>True</th>\n",
              "      <th></th>\n",
              "      <th></th>\n",
              "      <th></th>\n",
              "      <th></th>\n",
              "    </tr>\n",
              "  </thead>\n",
              "  <tbody>\n",
              "    <tr>\n",
              "      <th>1.0</th>\n",
              "      <td>15</td>\n",
              "      <td>8</td>\n",
              "      <td>0</td>\n",
              "      <td>23</td>\n",
              "    </tr>\n",
              "    <tr>\n",
              "      <th>2.0</th>\n",
              "      <td>9</td>\n",
              "      <td>46</td>\n",
              "      <td>8</td>\n",
              "      <td>63</td>\n",
              "    </tr>\n",
              "    <tr>\n",
              "      <th>3.0</th>\n",
              "      <td>0</td>\n",
              "      <td>8</td>\n",
              "      <td>54</td>\n",
              "      <td>62</td>\n",
              "    </tr>\n",
              "    <tr>\n",
              "      <th>All</th>\n",
              "      <td>24</td>\n",
              "      <td>62</td>\n",
              "      <td>62</td>\n",
              "      <td>148</td>\n",
              "    </tr>\n",
              "  </tbody>\n",
              "</table>\n",
              "</div>"
            ],
            "text/plain": [
              "Predicted  1.0  2.0  3.0  All\n",
              "True                         \n",
              "1.0         15    8    0   23\n",
              "2.0          9   46    8   63\n",
              "3.0          0    8   54   62\n",
              "All         24   62   62  148"
            ]
          },
          "metadata": {
            "tags": []
          },
          "execution_count": 209
        }
      ]
    },
    {
      "cell_type": "code",
      "metadata": {
        "id": "GPeZc0w97FYd",
        "colab_type": "code",
        "outputId": "16ae6ec2-57d3-473a-d0bc-b5abd678546b",
        "colab": {
          "base_uri": "https://localhost:8080/",
          "height": 312
        }
      },
      "source": [
        "y_pred = neigh.predict(X_test)\n",
        "from sklearn import metrics\n",
        "cnf_matrix = metrics.confusion_matrix(y_test, y_pred)\n",
        "p = sns.heatmap(pd.DataFrame(cnf_matrix), annot=True, cmap=\"YlGnBu\" ,fmt='g')\n",
        "plt.title('Confusion matrix', y=1.1)\n",
        "plt.ylabel('Actual label')\n",
        "plt.xlabel('Predicted label')"
      ],
      "execution_count": 0,
      "outputs": [
        {
          "output_type": "execute_result",
          "data": {
            "text/plain": [
              "Text(0.5, 15.0, 'Predicted label')"
            ]
          },
          "metadata": {
            "tags": []
          },
          "execution_count": 210
        },
        {
          "output_type": "display_data",
          "data": {
            "image/png": "[encoded data removed]",
            "text/plain": [
              "<Figure size 432x288 with 2 Axes>"
            ]
          },
          "metadata": {
            "tags": [],
            "needs_background": "light"
          }
        }
      ]
    },
    {
      "cell_type": "markdown",
      "metadata": {
        "id": "-cyy03THHqeE",
        "colab_type": "text"
      },
      "source": [
        "Checking prediction on a small set of inputs"
      ]
    },
    {
      "cell_type": "code",
      "metadata": {
        "id": "CoNkFwC37k5V",
        "colab_type": "code",
        "outputId": "005dd556-7e3c-4975-e6df-a8033a62ded8",
        "colab": {
          "base_uri": "https://localhost:8080/",
          "height": 34
        }
      },
      "source": [
        "new_X=np.array([[ 33,   1],\n",
        "       [ 30,  32],\n",
        "       [ 21,   10],\n",
        "       [  5, 106],\n",
        "       [  5, 208]])\n",
        "new_X=preprocessing.StandardScaler().fit(new_X).transform(new_X.astype(float))\n",
        "ypred = neigh.predict(new_X)\n",
        "ypred\n"
      ],
      "execution_count": 0,
      "outputs": [
        {
          "output_type": "execute_result",
          "data": {
            "text/plain": [
              "array([1., 3., 2., 1., 1.])"
            ]
          },
          "metadata": {
            "tags": []
          },
          "execution_count": 246
        }
      ]
    },
    {
      "cell_type": "code",
      "metadata": {
        "id": "bzkMW0_hFz8p",
        "colab_type": "code",
        "colab": {}
      },
      "source": [
        ""
      ],
      "execution_count": 0,
      "outputs": []
    }
  ]
}