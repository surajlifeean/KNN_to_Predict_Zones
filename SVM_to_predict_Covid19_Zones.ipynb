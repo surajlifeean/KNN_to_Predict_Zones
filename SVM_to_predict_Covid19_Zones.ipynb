{
  "nbformat": 4,
  "nbformat_minor": 0,
  "metadata": {
    "colab": {
      "name": "SVM_to_predict_Covid19_Zones.ipynb",
      "provenance": []
    },
    "kernelspec": {
      "name": "python3",
      "display_name": "Python 3"
    }
  },
  "cells": [
    {
      "cell_type": "code",
      "metadata": {
        "id": "b8m3TndvvzZo",
        "colab_type": "code",
        "colab": {}
      },
      "source": [
        "import pandas as pd\n",
        "import pylab as pl\n",
        "import numpy as np\n",
        "import scipy.optimize as opt\n",
        "from sklearn import preprocessing\n",
        "from sklearn.model_selection import train_test_split\n",
        "%matplotlib inline \n",
        "import matplotlib.pyplot as plt"
      ],
      "execution_count": 0,
      "outputs": []
    },
    {
      "cell_type": "code",
      "metadata": {
        "id": "0thbi0k7sAUD",
        "colab_type": "code",
        "colab": {}
      },
      "source": [
        "import requests\n",
        "import json\n",
        "import pandas as pd\n",
        "zones = requests.get(\"https://api.covid19india.org/zones.json\")\n",
        "data = json.loads(zones.text)\n",
        "dist_zone={}\n",
        "for entry in data['zones']:\n",
        "  # dist_zone_list.append([entry['district'],entry['state'],entry['zone']])\n",
        "  dist_zone.update({entry['district']:entry['zone']})\n",
        "\n",
        "districts = requests.get(\"https://api.covid19india.org/districts_daily.json\")\n",
        "data_district = json.loads(districts.text)\n",
        "data_cnt=[]\n",
        "from datetime import datetime\n",
        "def getCaseAndLastReport(jsonObjectParam):\n",
        "    cases_dist=pd.DataFrame(jsonObjectParam)\n",
        "    current=cases_dist.max()\n",
        "    current_cnf_cnt=current.confirmed\n",
        "    current_dt=current.date\n",
        "    previous=cases_dist[cases_dist['confirmed']<current_cnf_cnt].max()\n",
        "    previous_cnf_cnt=previous.confirmed\n",
        "    previous_dt=previous.date\n",
        "    if(pd.isnull(previous_dt)):\n",
        "      previous_dt='2020-04-21'\n",
        "    datetime1=datetime.strptime(current_dt,'%Y-%m-%d')\n",
        "    datetime2=datetime.strptime(previous_dt,'%Y-%m-%d')\n",
        "    diff=(datetime1-datetime2).days\n",
        "    return [diff,current_cnf_cnt]"
      ],
      "execution_count": 0,
      "outputs": []
    },
    {
      "cell_type": "code",
      "metadata": {
        "id": "D-gOCFVCsRvV",
        "colab_type": "code",
        "colab": {}
      },
      "source": [
        "for state in data_district['districtsDaily']:\n",
        "  for district in data_district['districtsDaily'][state]:\n",
        "    info=[state,district]\n",
        "    val=getCaseAndLastReport(data_district['districtsDaily'][state][district])\n",
        "    data_cnt.append(info+val)\n",
        "\n",
        "\n",
        "district_df=pd.DataFrame(data_cnt,columns=['State','District','DaysOfNoChange','Count'])\n",
        "district_df['zone']=district_df['District'].map(dist_zone)\n"
      ],
      "execution_count": 0,
      "outputs": []
    },
    {
      "cell_type": "code",
      "metadata": {
        "id": "usat0pOCskbs",
        "colab_type": "code",
        "outputId": "3beabe84-e180-4af4-9e0e-55d381e13f77",
        "colab": {
          "base_uri": "https://localhost:8080/",
          "height": 204
        }
      },
      "source": [
        "district_df.dropna(inplace=True)\n",
        "district_df.head()"
      ],
      "execution_count": 13,
      "outputs": [
        {
          "output_type": "execute_result",
          "data": {
            "text/html": [
              "<div>\n",
              "<style scoped>\n",
              "    .dataframe tbody tr th:only-of-type {\n",
              "        vertical-align: middle;\n",
              "    }\n",
              "\n",
              "    .dataframe tbody tr th {\n",
              "        vertical-align: top;\n",
              "    }\n",
              "\n",
              "    .dataframe thead th {\n",
              "        text-align: right;\n",
              "    }\n",
              "</style>\n",
              "<table border=\"1\" class=\"dataframe\">\n",
              "  <thead>\n",
              "    <tr style=\"text-align: right;\">\n",
              "      <th></th>\n",
              "      <th>State</th>\n",
              "      <th>District</th>\n",
              "      <th>DaysOfNoChange</th>\n",
              "      <th>Count</th>\n",
              "      <th>zone</th>\n",
              "      <th>zone_cd</th>\n",
              "    </tr>\n",
              "  </thead>\n",
              "  <tbody>\n",
              "    <tr>\n",
              "      <th>0</th>\n",
              "      <td>Andaman and Nicobar Islands</td>\n",
              "      <td>North and Middle Andaman</td>\n",
              "      <td>34</td>\n",
              "      <td>1</td>\n",
              "      <td>Green</td>\n",
              "      <td>3.0</td>\n",
              "    </tr>\n",
              "    <tr>\n",
              "      <th>1</th>\n",
              "      <td>Andaman and Nicobar Islands</td>\n",
              "      <td>South Andaman</td>\n",
              "      <td>31</td>\n",
              "      <td>32</td>\n",
              "      <td>Red</td>\n",
              "      <td>1.0</td>\n",
              "    </tr>\n",
              "    <tr>\n",
              "      <th>3</th>\n",
              "      <td>Andaman and Nicobar Islands</td>\n",
              "      <td>Nicobars</td>\n",
              "      <td>34</td>\n",
              "      <td>0</td>\n",
              "      <td>Green</td>\n",
              "      <td>3.0</td>\n",
              "    </tr>\n",
              "    <tr>\n",
              "      <th>4</th>\n",
              "      <td>Andhra Pradesh</td>\n",
              "      <td>Anantapur</td>\n",
              "      <td>6</td>\n",
              "      <td>136</td>\n",
              "      <td>Orange</td>\n",
              "      <td>2.0</td>\n",
              "    </tr>\n",
              "    <tr>\n",
              "      <th>5</th>\n",
              "      <td>Andhra Pradesh</td>\n",
              "      <td>Chittoor</td>\n",
              "      <td>6</td>\n",
              "      <td>208</td>\n",
              "      <td>Red</td>\n",
              "      <td>1.0</td>\n",
              "    </tr>\n",
              "  </tbody>\n",
              "</table>\n",
              "</div>"
            ],
            "text/plain": [
              "                         State                  District  ...    zone  zone_cd\n",
              "0  Andaman and Nicobar Islands  North and Middle Andaman  ...   Green      3.0\n",
              "1  Andaman and Nicobar Islands             South Andaman  ...     Red      1.0\n",
              "3  Andaman and Nicobar Islands                  Nicobars  ...   Green      3.0\n",
              "4               Andhra Pradesh                 Anantapur  ...  Orange      2.0\n",
              "5               Andhra Pradesh                  Chittoor  ...     Red      1.0\n",
              "\n",
              "[5 rows x 6 columns]"
            ]
          },
          "metadata": {
            "tags": []
          },
          "execution_count": 13
        }
      ]
    },
    {
      "cell_type": "code",
      "metadata": {
        "id": "ShBc_hIpspFM",
        "colab_type": "code",
        "colab": {}
      },
      "source": [
        "codes={'Red':1,'Orange':2,'Green':3}\n",
        "district_df['zone_cd']=district_df['zone'].map(codes)"
      ],
      "execution_count": 0,
      "outputs": []
    },
    {
      "cell_type": "code",
      "metadata": {
        "id": "A_e_nOUAuMxw",
        "colab_type": "code",
        "colab": {
          "base_uri": "https://localhost:8080/",
          "height": 136
        },
        "outputId": "5ef54dba-b080-4f00-ef44-dd34b5e8ce13"
      },
      "source": [
        "district_df.dtypes"
      ],
      "execution_count": 9,
      "outputs": [
        {
          "output_type": "execute_result",
          "data": {
            "text/plain": [
              "State              object\n",
              "District           object\n",
              "DaysOfNoChange      int64\n",
              "Count               int64\n",
              "zone               object\n",
              "zone_cd           float64\n",
              "dtype: object"
            ]
          },
          "metadata": {
            "tags": []
          },
          "execution_count": 9
        }
      ]
    },
    {
      "cell_type": "code",
      "metadata": {
        "id": "yrz2UwO3ue4i",
        "colab_type": "code",
        "colab": {}
      },
      "source": [
        "X=district_df[['DaysOfNoChange','Count']].values\n",
        "y = district_df['zone_cd'].values.astype('int')"
      ],
      "execution_count": 0,
      "outputs": []
    },
    {
      "cell_type": "code",
      "metadata": {
        "id": "tEPTjU0ZvDsk",
        "colab_type": "code",
        "colab": {
          "base_uri": "https://localhost:8080/",
          "height": 51
        },
        "outputId": "dc08c0d6-2a9d-4cad-9f85-ca2b10a67cd6"
      },
      "source": [
        "X_train, X_test, y_train, y_test = train_test_split( X, y, test_size=0.2, random_state=4)\n",
        "print ('Train set:', X_train.shape,  y_train.shape)\n",
        "print ('Test set:', X_test.shape,  y_test.shape)"
      ],
      "execution_count": 29,
      "outputs": [
        {
          "output_type": "stream",
          "text": [
            "Train set: (588, 2) (588,)\n",
            "Test set: (148, 2) (148,)\n"
          ],
          "name": "stdout"
        }
      ]
    },
    {
      "cell_type": "code",
      "metadata": {
        "id": "F-hhUVANvII6",
        "colab_type": "code",
        "colab": {
          "base_uri": "https://localhost:8080/",
          "height": 85
        },
        "outputId": "a5b52cac-eef5-4411-82f2-f3b050ed4313"
      },
      "source": [
        "from sklearn import svm\n",
        "clf = svm.SVC(kernel='linear')\n",
        "clf.fit(X_train, y_train) "
      ],
      "execution_count": 50,
      "outputs": [
        {
          "output_type": "execute_result",
          "data": {
            "text/plain": [
              "SVC(C=1.0, break_ties=False, cache_size=200, class_weight=None, coef0=0.0,\n",
              "    decision_function_shape='ovr', degree=3, gamma='scale', kernel='linear',\n",
              "    max_iter=-1, probability=False, random_state=None, shrinking=True,\n",
              "    tol=0.001, verbose=False)"
            ]
          },
          "metadata": {
            "tags": []
          },
          "execution_count": 50
        }
      ]
    },
    {
      "cell_type": "code",
      "metadata": {
        "id": "k6hatJq6v6XI",
        "colab_type": "code",
        "colab": {}
      },
      "source": [
        "yhat = clf.predict(X_test)"
      ],
      "execution_count": 0,
      "outputs": []
    },
    {
      "cell_type": "code",
      "metadata": {
        "id": "C3iKTIoZwAd4",
        "colab_type": "code",
        "colab": {}
      },
      "source": [
        "from sklearn.metrics import classification_report, confusion_matrix\n",
        "import itertools"
      ],
      "execution_count": 0,
      "outputs": []
    },
    {
      "cell_type": "code",
      "metadata": {
        "id": "YhdXYT-SwEZ7",
        "colab_type": "code",
        "colab": {}
      },
      "source": [
        "def plot_confusion_matrix(cm, classes,\n",
        "                          normalize=False,\n",
        "                          title='Confusion matrix',\n",
        "                          cmap=plt.cm.Blues):\n",
        "    \"\"\"\n",
        "    This function prints and plots the confusion matrix.\n",
        "    Normalization can be applied by setting `normalize=True`.\n",
        "    \"\"\"\n",
        "    if normalize:\n",
        "        cm = cm.astype('float') / cm.sum(axis=1)[:, np.newaxis]\n",
        "        print(\"Normalized confusion matrix\")\n",
        "    else:\n",
        "        print('Confusion matrix, without normalization')\n",
        "\n",
        "    print(cm)\n",
        "\n",
        "    plt.imshow(cm, interpolation='nearest', cmap=cmap)\n",
        "    plt.title(title)\n",
        "    plt.colorbar()\n",
        "    tick_marks = np.arange(len(classes))\n",
        "    plt.xticks(tick_marks, classes, rotation=45)\n",
        "    plt.yticks(tick_marks, classes)\n",
        "\n",
        "    fmt = '.2f' if normalize else 'd'\n",
        "    thresh = cm.max() / 2.\n",
        "    for i, j in itertools.product(range(cm.shape[0]), range(cm.shape[1])):\n",
        "        plt.text(j, i, format(cm[i, j], fmt),\n",
        "                 horizontalalignment=\"center\",\n",
        "                 color=\"white\" if cm[i, j] > thresh else \"black\")\n",
        "\n",
        "    plt.tight_layout()\n",
        "    plt.ylabel('True label')\n",
        "    plt.xlabel('Predicted label')"
      ],
      "execution_count": 0,
      "outputs": []
    },
    {
      "cell_type": "code",
      "metadata": {
        "id": "png5JcjZwTfX",
        "colab_type": "code",
        "colab": {
          "base_uri": "https://localhost:8080/",
          "height": 549
        },
        "outputId": "e34b0fbf-8793-409e-9445-25adaf0f54ab"
      },
      "source": [
        "# Compute confusion matrix\n",
        "cnf_matrix = confusion_matrix(y_test, yhat, labels=[2,1,3])\n",
        "np.set_printoptions(precision=2)\n",
        "\n",
        "print (classification_report(y_test, yhat))\n",
        "\n",
        "# Plot non-normalized confusion matrix\n",
        "plt.figure()\n",
        "plot_confusion_matrix(cnf_matrix, classes=['orange(2)','red(1)','green(3)'],normalize= False,  title='Confusion matrix')"
      ],
      "execution_count": 54,
      "outputs": [
        {
          "output_type": "stream",
          "text": [
            "              precision    recall  f1-score   support\n",
            "\n",
            "           1       0.60      0.39      0.47        23\n",
            "           2       0.64      0.60      0.62        63\n",
            "           3       0.74      0.89      0.81        62\n",
            "\n",
            "    accuracy                           0.69       148\n",
            "   macro avg       0.66      0.63      0.64       148\n",
            "weighted avg       0.68      0.69      0.68       148\n",
            "\n",
            "Confusion matrix, without normalization\n",
            "[[38  6 19]\n",
            " [14  9  0]\n",
            " [ 7  0 55]]\n"
          ],
          "name": "stdout"
        },
        {
          "output_type": "display_data",
          "data": {
            "image/png": "[encoded data removed]",
            "text/plain": [
              "<Figure size 432x288 with 2 Axes>"
            ]
          },
          "metadata": {
            "tags": [],
            "needs_background": "light"
          }
        }
      ]
    },
    {
      "cell_type": "code",
      "metadata": {
        "id": "y01XTbCaxDJW",
        "colab_type": "code",
        "colab": {
          "base_uri": "https://localhost:8080/",
          "height": 34
        },
        "outputId": "acb7fd4a-3fb5-4c19-c710-8e411f71d396"
      },
      "source": [
        "from sklearn.metrics import f1_score\n",
        "f1_score(y_test, yhat, average='weighted') "
      ],
      "execution_count": 55,
      "outputs": [
        {
          "output_type": "execute_result",
          "data": {
            "text/plain": [
              "0.6776195763849928"
            ]
          },
          "metadata": {
            "tags": []
          },
          "execution_count": 55
        }
      ]
    },
    {
      "cell_type": "code",
      "metadata": {
        "id": "C3v_X6zbxxY9",
        "colab_type": "code",
        "colab": {}
      },
      "source": [
        ""
      ],
      "execution_count": 0,
      "outputs": []
    }
  ]
}